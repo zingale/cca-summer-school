{
 "cells": [
  {
   "cell_type": "markdown",
   "id": "490ce1b8-028c-486d-b635-ab94f596b984",
   "metadata": {
    "user_expressions": []
   },
   "source": [
    "# A Grid Class and Ghost Cells"
   ]
  },
  {
   "cell_type": "markdown",
   "id": "10316cde-9aa2-438f-9c99-cff04e6f71a4",
   "metadata": {
    "user_expressions": []
   },
   "source": [
    "Consider constructing a derivate using a difference approximation of the form:\n",
    "\n",
    "$$\\frac{\\partial a}{\\partial x} \\approx \\frac{a_{i+1} - a_{i-1}}{2 \\Delta x}$$\n",
    "\n",
    "Now imagine that our grid has $N$ zones, indexed by $i = 0, 1, \\ldots, N-1$.  Our difference approximation for $\\partial a/\\partial x |_{i=0}$ is:\n",
    "\n",
    "$$\\left .\\frac{\\partial a}{\\partial x} \\right |_{i=0} \\approx \\frac{a_1 - a_{-1}}{2\\Delta x}$$\n",
    "\n",
    "But we don't have a value of $a$ corresponding to $i=-1$.  \n",
    "\n",
    "This is where our boundary conditions come into play, and to accomodate our boundary conditions and allow ourselves to use the same difference\n",
    "approximation everywhere in the domain, we extend the grid using *ghost cells*."
   ]
  },
  {
   "cell_type": "markdown",
   "id": "96d81bf5-193b-4253-8849-f47081c7d509",
   "metadata": {
    "tags": [],
    "user_expressions": []
   },
   "source": [
    "![ghost cells in the finite-volume method](fv_ghost.png)"
   ]
  },
  {
   "cell_type": "markdown",
   "id": "db11bd34-4048-44e4-ad2a-eb4370c4d736",
   "metadata": {
    "user_expressions": []
   },
   "source": [
    "In the figure above, the first zone inside the domain is indexed using `lo` and the last zone in the domain is indexed with `hi`.  Outside of the domain, there are 2 ghost cells on each end---we will initialize the data in these cells using our knowledge of the boundary conditions."
   ]
  },
  {
   "cell_type": "markdown",
   "id": "2baef6a1-cde6-4725-a8fe-e27e8d7668ef",
   "metadata": {
    "user_expressions": []
   },
   "source": [
    "We need a class that holds the data on a finite-volume grid, including ghost cells.  Here's our implementation:"
   ]
  },
  {
   "cell_type": "code",
   "execution_count": 1,
   "id": "63d0a945-9910-4511-a80e-7af4e22853f9",
   "metadata": {
    "tags": []
   },
   "outputs": [],
   "source": [
    "import numpy as np\n",
    "import matplotlib.pyplot as plt"
   ]
  },
  {
   "cell_type": "code",
   "execution_count": 2,
   "id": "03a68f32-db9f-4f68-998d-94581f1e59de",
   "metadata": {
    "tags": []
   },
   "outputs": [],
   "source": [
    "class FVGrid:\n",
    "\n",
    "    def __init__(self, nx, ng=2, xmin=0.0, xmax=1.0):\n",
    "\n",
    "        self.xmin = xmin\n",
    "        self.xmax = xmax\n",
    "        self.ng = ng\n",
    "        self.nx = nx\n",
    "\n",
    "        # python is zero-based.  Make easy integers to know where the\n",
    "        # real data lives\n",
    "        self.ilo = ng\n",
    "        self.ihi = ng+nx-1\n",
    "\n",
    "        # physical coords -- cell-centered, left and right edges\n",
    "        self.dx = (xmax - xmin)/(nx)\n",
    "        self.x = xmin + (np.arange(nx+2*ng)-ng+0.5)*self.dx\n",
    "        self.xl = xmin + (np.arange(nx+2*ng)-ng)*self.dx\n",
    "        self.xr = xmin + (np.arange(nx+2*ng)-ng+1.0)*self.dx\n",
    "\n",
    "        # storage for the solution\n",
    "        self.a = self.scratch_array()\n",
    "        self.ainit = self.scratch_array()\n",
    "\n",
    "    def __str__(self):\n",
    "        return f\"nx={self.nx}, ng={self.ng}, xmin={self.xmin}, xmax={self.xmax}\"\n",
    "    \n",
    "    def __repr__(self):\n",
    "        return f\"FVGrid({self.nx}, ng={self.ng}, xmin={self.xmin}, xmax={self.xmax})\"\n",
    "\n",
    "    def scratch_array(self):\n",
    "        \"\"\" return a scratch array dimensioned for our grid \"\"\"\n",
    "        return np.zeros((self.nx+2*self.ng), dtype=np.float64)\n",
    "\n",
    "    def fill_BCs(self, atmp):\n",
    "        \"\"\" fill all ghostcells with periodic boundary conditions \"\"\"\n",
    "\n",
    "        # left boundary\n",
    "        for n in range(self.ng):\n",
    "            atmp[self.ilo-1-n] = atmp[self.ihi-n]\n",
    "\n",
    "        # right boundary\n",
    "        for n in range(self.ng):\n",
    "            atmp[self.ihi+1+n] = atmp[self.ilo+n]\n",
    "\n",
    "    def norm(self, e):\n",
    "        \"\"\" return the norm of quantity e which lives on the grid \"\"\"\n",
    "        if not len(e) == (2*self.ng + self.nx):\n",
    "            return None\n",
    "\n",
    "        return np.sqrt(self.dx*np.sum(e[self.ilo:self.ihi+1]**2))\n",
    "    \n",
    "    def plot(self):\n",
    "        fig = plt.figure()\n",
    "        ax = fig.add_subplot(111)\n",
    "\n",
    "        ax.plot(self.x, self.ainit, label=\"initial conditions\")\n",
    "        ax.plot(self.x, self.a)\n",
    "        ax.legend()\n",
    "        return fig"
   ]
  },
  {
   "cell_type": "markdown",
   "id": "6dbca05e-ec89-4005-b825-0990d2509388",
   "metadata": {},
   "source": [
    "Let's test this out to see how the ghost cell filling works.  The above implementation does periodic boundaries."
   ]
  },
  {
   "cell_type": "code",
   "execution_count": 3,
   "id": "ab616851-d715-46c9-9738-f3aca789c27c",
   "metadata": {
    "tags": []
   },
   "outputs": [
    {
     "data": {
      "text/plain": [
       "FVGrid(10, ng=2, xmin=0.0, xmax=1.0)"
      ]
     },
     "execution_count": 3,
     "metadata": {},
     "output_type": "execute_result"
    }
   ],
   "source": [
    "g = FVGrid(10)\n",
    "g"
   ]
  },
  {
   "cell_type": "markdown",
   "id": "c451306a-a3be-4b1d-8c2d-72237f2b6b37",
   "metadata": {
    "user_expressions": []
   },
   "source": [
    "We can access the data on the grid as `g.a[]`, and the valid data lives in `g.a[g.ilo:g.ihi+1]` (remembering that range is up to, but not including `ihi+1`)"
   ]
  },
  {
   "cell_type": "code",
   "execution_count": 4,
   "id": "baed3535-664b-4f31-9ad8-6c374bd3af1b",
   "metadata": {
    "tags": []
   },
   "outputs": [
    {
     "data": {
      "text/plain": [
       "array([ 0.,  0.,  1.,  2.,  3.,  4.,  5.,  6.,  7.,  8.,  9., 10.,  0.,\n",
       "        0.])"
      ]
     },
     "execution_count": 4,
     "metadata": {},
     "output_type": "execute_result"
    }
   ],
   "source": [
    "g.a[g.ilo:g.ihi+1] = np.arange(g.nx)+1\n",
    "g.a"
   ]
  },
  {
   "cell_type": "markdown",
   "id": "52e8eda6-7171-4e04-b11b-dd368e0728cd",
   "metadata": {
    "tags": []
   },
   "source": [
    "Now we can fill ghost cells.  For later flexibility, the `fill_BCs()` method takes an argument which is the array we are filling ghost cells on"
   ]
  },
  {
   "cell_type": "code",
   "execution_count": 5,
   "id": "4b109a89-2342-4a68-ae9f-cf8bc58ccf77",
   "metadata": {
    "tags": []
   },
   "outputs": [
    {
     "data": {
      "text/plain": [
       "array([ 9., 10.,  1.,  2.,  3.,  4.,  5.,  6.,  7.,  8.,  9., 10.,  1.,\n",
       "        2.])"
      ]
     },
     "execution_count": 5,
     "metadata": {},
     "output_type": "execute_result"
    }
   ],
   "source": [
    "g.fill_BCs(g.a)\n",
    "g.a"
   ]
  },
  {
   "cell_type": "markdown",
   "id": "29b34be7-5d4e-4e23-9b7d-ad66aa2555a5",
   "metadata": {
    "user_expressions": []
   },
   "source": [
    "There are some other useful methods in this class that we will explore later."
   ]
  },
  {
   "cell_type": "markdown",
   "id": "14a92381-0b85-4db0-b10e-b0d812bc5768",
   "metadata": {
    "user_expressions": []
   },
   "source": [
    "## Interface values"
   ]
  },
  {
   "cell_type": "markdown",
   "id": "5acc2108-bb08-4c75-9a69-9c893f7ec42e",
   "metadata": {
    "tags": [],
    "user_expressions": []
   },
   "source": [
    "Sometimes need to store interface values (which we've been denoting with half-integer subscripts, like $a_{i-1/2}$) as arrays which only take integer indices.  We will adopt the common convention that when an array refers to an interface state, it denotes the left interface of a cell.\n",
    "\n",
    "E.g., `aint[i]}` means $a_{i-1/2}$\n",
    "\n",
    "This is illustrated below for arrays `a[]` which stores cell center quantities and `aint[]` which stores interface values:\n",
    "\n",
    "![array notation for interfaces](array-labels.png)"
   ]
  }
 ],
 "metadata": {
  "kernelspec": {
   "display_name": "Python 3 (ipykernel)",
   "language": "python",
   "name": "python3"
  },
  "language_info": {
   "codemirror_mode": {
    "name": "ipython",
    "version": 3
   },
   "file_extension": ".py",
   "mimetype": "text/x-python",
   "name": "python",
   "nbconvert_exporter": "python",
   "pygments_lexer": "ipython3",
   "version": "3.11.4"
  }
 },
 "nbformat": 4,
 "nbformat_minor": 5
}
